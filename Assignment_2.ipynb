{
  "nbformat": 4,
  "nbformat_minor": 0,
  "metadata": {
    "colab": {
      "private_outputs": true,
      "provenance": []
    },
    "kernelspec": {
      "name": "python3",
      "display_name": "Python 3"
    },
    "language_info": {
      "name": "python"
    }
  },
  "cells": [
    {
      "cell_type": "markdown",
      "source": [
        "### 1) Write a program to print the maximum between two numbers. (one-line conditional statement)\n"
      ],
      "metadata": {
        "id": "Ui8LKXjlii3V"
      }
    },
    {
      "cell_type": "markdown",
      "source": [
        "### 2) Write a program to find the maximum between three numbers.\n"
      ],
      "metadata": {
        "id": "xQB_yP4rirZS"
      }
    },
    {
      "cell_type": "markdown",
      "source": [
        "### 3) Write a program to check whether a number is negative, or positive (one-line conditional statement)\n"
      ],
      "metadata": {
        "id": "di3xEq8mjBRK"
      }
    },
    {
      "cell_type": "markdown",
      "source": [
        "### 4) Write a  program to check whether a number is even or odd  (one-line statement).\n"
      ],
      "metadata": {
        "id": "grc5Gk_RjFBe"
      }
    },
    {
      "cell_type": "markdown",
      "source": [
        "###5) Write a  program to check whether a year is a leap year or not. (one-line conditional statement).\n"
      ],
      "metadata": {
        "id": "-J3UtjpIjJPv"
      }
    },
    {
      "cell_type": "markdown",
      "source": [
        "###6) Write a  program to store the weekdays in a list and access the week day and print it by index.\n"
      ],
      "metadata": {
        "id": "JeN4yaIMjNlC"
      }
    },
    {
      "cell_type": "markdown",
      "source": [
        "###7) Write a  program to print all alphabets from a to z using while loop"
      ],
      "metadata": {
        "id": "ST7uKJmtjYh1"
      }
    },
    {
      "cell_type": "markdown",
      "source": [
        "###8)Write a program to store numbers in the List and print its reverse"
      ],
      "metadata": {
        "id": "PkPPTrivjran"
      }
    },
    {
      "cell_type": "markdown",
      "source": [
        "### 9) Write a program to print the multiplcation table of any number"
      ],
      "metadata": {
        "id": "2JoHNIaCj7fR"
      }
    },
    {
      "cell_type": "markdown",
      "source": [
        "###10)Write a program to print all even numbers between 1 to 100.(using while loop)"
      ],
      "metadata": {
        "id": "WTIX9yh1kLs-"
      }
    },
    {
      "cell_type": "code",
      "execution_count": null,
      "metadata": {
        "id": "i5fTGY3Qib9Y"
      },
      "outputs": [],
      "source": []
    }
  ]
}