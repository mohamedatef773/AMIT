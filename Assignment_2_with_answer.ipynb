{
  "nbformat": 4,
  "nbformat_minor": 0,
  "metadata": {
    "colab": {
      "private_outputs": true,
      "provenance": []
    },
    "kernelspec": {
      "name": "python3",
      "display_name": "Python 3"
    },
    "language_info": {
      "name": "python"
    }
  },
  "cells": [
    {
      "cell_type": "markdown",
      "source": [
        "### 1) Write a program to print the maximum between two numbers. (one-line conditional statement)\n"
      ],
      "metadata": {
        "id": "Ui8LKXjlii3V"
      }
    },
    {
      "cell_type": "code",
      "source": [
        "a = 511\n",
        "b = 101\n",
        "print(a if a > b else b )\n"
      ],
      "metadata": {
        "id": "dgoRpObNt_oE"
      },
      "execution_count": null,
      "outputs": []
    },
    {
      "cell_type": "markdown",
      "source": [
        "### 2) Write a program to find the maximum between three numbers.\n"
      ],
      "metadata": {
        "id": "xQB_yP4rirZS"
      }
    },
    {
      "cell_type": "code",
      "source": [
        "a, b, c = 10, 15, 20\n",
        "print(f\"{a} is the biggest number\" if a > b else (f\"{b} is the biggest number\" if b > c else f\"{c} is the biggest number\"))"
      ],
      "metadata": {
        "id": "Lk34-sLzugz9"
      },
      "execution_count": null,
      "outputs": []
    },
    {
      "cell_type": "markdown",
      "source": [
        "### 3) Write a program to check whether a number is negative, or positive (one-line conditional statement)\n"
      ],
      "metadata": {
        "id": "di3xEq8mjBRK"
      }
    },
    {
      "cell_type": "code",
      "source": [
        "a=-1\n",
        "print(f\"{a} is positive number\" if a>0 else ( f\"{a} is a negative number\" if a<0 else (f\"{a} Zero \")))"
      ],
      "metadata": {
        "id": "albS4zSuvvaF"
      },
      "execution_count": null,
      "outputs": []
    },
    {
      "cell_type": "markdown",
      "source": [
        "### 4) Write a  program to check whether a number is even or odd  (one-line statement).\n"
      ],
      "metadata": {
        "id": "grc5Gk_RjFBe"
      }
    },
    {
      "cell_type": "code",
      "source": [
        "a=3\n",
        "print(f\"{a} is an even number\" if a%2==0 else f\"{a} is odd number\")"
      ],
      "metadata": {
        "id": "FkCz2RvHwrEq"
      },
      "execution_count": null,
      "outputs": []
    },
    {
      "cell_type": "markdown",
      "source": [
        "###5) Write a  program to check whether a year is a leap year or not. (one-line conditional statement).\n"
      ],
      "metadata": {
        "id": "-J3UtjpIjJPv"
      }
    },
    {
      "cell_type": "code",
      "source": [
        "print((5==5 and 4==4) or (3==2))"
      ],
      "metadata": {
        "id": "ZSHYWsopxfCj"
      },
      "execution_count": null,
      "outputs": []
    },
    {
      "cell_type": "code",
      "source": [
        "year = 2024\n",
        "print(f\"{year} is a leap year\" if (year % 4 == 0 and year % 100 != 0) or (year % 400 == 0) else f\"{year} is not a leap year\")\n"
      ],
      "metadata": {
        "id": "v-cHkbqCxGds"
      },
      "execution_count": null,
      "outputs": []
    },
    {
      "cell_type": "markdown",
      "source": [
        "###6) Write a  program to store the weekdays in a list and access the week day and print it by index.\n"
      ],
      "metadata": {
        "id": "JeN4yaIMjNlC"
      }
    },
    {
      "cell_type": "code",
      "source": [
        "weekdays = [\"Monday\", \"Tuesday\", \"Wednesday\", \"Thursday\", \"Friday\", \"Saturday\", \"Sunday\"]\n",
        "index = 0\n",
        "if(1<=index and index<=len(weekdays)):\n",
        "  print(f\"The day {weekdays[index]}\")\n",
        "else:\n",
        "  print(\"Invalid index\")"
      ],
      "metadata": {
        "id": "GZTbspXuzMd7"
      },
      "execution_count": null,
      "outputs": []
    },
    {
      "cell_type": "code",
      "source": [
        "weekdays = [\"Monday\", \"Tuesday\", \"Wednesday\", \"Thursday\", \"Friday\", \"Saturday\", \"Sunday\"]\n",
        "index = 5\n",
        "print(weekdays[index - 1] if 1 <= index <= len(weekdays) else \"Invalid index\")\n",
        "print(weekdays[index - 1] if 1 <= index and index <= len(weekdays) else \"Invalid index\")\n"
      ],
      "metadata": {
        "id": "vygiU4TUxeWw"
      },
      "execution_count": null,
      "outputs": []
    },
    {
      "cell_type": "markdown",
      "source": [
        "###7) Write a  program to print all alphabets from a to z using while loop"
      ],
      "metadata": {
        "id": "ST7uKJmtjYh1"
      }
    },
    {
      "cell_type": "code",
      "source": [
        "x = \"abcdefghijklmnopqrstuvwxyz\"\n",
        "index = 0\n",
        "while index < len(x):\n",
        "    print(x[index],end=' ')\n",
        "    index += 1\n"
      ],
      "metadata": {
        "id": "2SoxcFfC2w7M"
      },
      "execution_count": null,
      "outputs": []
    },
    {
      "cell_type": "markdown",
      "source": [
        "###8)Write a program to store numbers in the List and print its reverse"
      ],
      "metadata": {
        "id": "PkPPTrivjran"
      }
    },
    {
      "cell_type": "code",
      "source": [
        "numbers = [1, 2, 3, 4, 5]\n",
        "numbers.reverse()\n",
        "print(numbers)"
      ],
      "metadata": {
        "id": "jXg11d_T3kuI"
      },
      "execution_count": null,
      "outputs": []
    },
    {
      "cell_type": "code",
      "source": [
        "numbers = [1, 2, 3, 4, 5]\n",
        "print(numbers[-1::-1])"
      ],
      "metadata": {
        "id": "B8Rk2x1K3v4t"
      },
      "execution_count": null,
      "outputs": []
    },
    {
      "cell_type": "markdown",
      "source": [
        "### 9) Write a program to print the multiplcation table of any number"
      ],
      "metadata": {
        "id": "2JoHNIaCj7fR"
      }
    },
    {
      "cell_type": "code",
      "source": [
        "number = 5\n",
        "for i in range(13):\n",
        "    print(f\"{number} x {i} = {number * i}\")"
      ],
      "metadata": {
        "id": "uJ9hpmbH4NQl"
      },
      "execution_count": null,
      "outputs": []
    },
    {
      "cell_type": "markdown",
      "source": [
        "###10)Write a program to print all even numbers between 1 to 100.(using while loop)"
      ],
      "metadata": {
        "id": "WTIX9yh1kLs-"
      }
    },
    {
      "cell_type": "code",
      "execution_count": null,
      "metadata": {
        "id": "i5fTGY3Qib9Y"
      },
      "outputs": [],
      "source": [
        "x=1\n",
        "while x<=100:\n",
        "  if x%2==0:\n",
        "    print(x,end=\" \")\n",
        "  x+=1"
      ]
    },
    {
      "cell_type": "code",
      "source": [],
      "metadata": {
        "id": "U2jn5rJr4muW"
      },
      "execution_count": null,
      "outputs": []
    }
  ]
}