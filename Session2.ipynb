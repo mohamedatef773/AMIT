{
  "cells": [
    {
      "cell_type": "markdown",
      "metadata": {
        "id": "wkWXHHx_kO5N"
      },
      "source": [
        "<img src=\"https://scaler-topics-articles-md.s3.us-west-2.amazonaws.com/python-list-vs-tuple-vs-dictionary-vs-set.webp\" alt=\"Italian Trulli\">\n"
      ]
    },
    {
      "cell_type": "code",
      "source": [
        "number=[[5,3,4],1,2,3]"
      ],
      "metadata": {
        "id": "lzI0dDWPQW81"
      },
      "execution_count": 1,
      "outputs": []
    },
    {
      "cell_type": "code",
      "source": [
        "rom=number.pop(0)"
      ],
      "metadata": {
        "id": "zL1SStc6QaRN"
      },
      "execution_count": 2,
      "outputs": []
    },
    {
      "cell_type": "code",
      "source": [
        "print(rom)"
      ],
      "metadata": {
        "colab": {
          "base_uri": "https://localhost:8080/"
        },
        "id": "PoXbVZiGQeWq",
        "outputId": "22ff4487-9e94-4bfe-ad04-f530398869dd"
      },
      "execution_count": 3,
      "outputs": [
        {
          "output_type": "stream",
          "name": "stdout",
          "text": [
            "[5, 3, 4]\n"
          ]
        }
      ]
    },
    {
      "cell_type": "code",
      "source": [
        "number.extend(rom)"
      ],
      "metadata": {
        "id": "HmKwJy6tQiJc"
      },
      "execution_count": 4,
      "outputs": []
    },
    {
      "cell_type": "code",
      "source": [
        "print(number)"
      ],
      "metadata": {
        "colab": {
          "base_uri": "https://localhost:8080/"
        },
        "id": "vO6knAIfQmgM",
        "outputId": "21c0705b-a79e-4637-a04a-72de79c6bc20"
      },
      "execution_count": 5,
      "outputs": [
        {
          "output_type": "stream",
          "name": "stdout",
          "text": [
            "[1, 2, 3, 5, 3, 4]\n"
          ]
        }
      ]
    },
    {
      "cell_type": "code",
      "source": [
        "a=[1,2,3,4]"
      ],
      "metadata": {
        "id": "otMtK8elV_dN"
      },
      "execution_count": 6,
      "outputs": []
    },
    {
      "cell_type": "code",
      "source": [
        "print(a)"
      ],
      "metadata": {
        "colab": {
          "base_uri": "https://localhost:8080/"
        },
        "id": "gwENmPRoV6t9",
        "outputId": "9b9689a0-8b2a-4da7-9e72-1013d2b73bbd"
      },
      "execution_count": 7,
      "outputs": [
        {
          "output_type": "stream",
          "name": "stdout",
          "text": [
            "[1, 2, 3, 4]\n"
          ]
        }
      ]
    },
    {
      "cell_type": "markdown",
      "metadata": {
        "id": "aiuwUKNxkO5P"
      },
      "source": [
        "\n",
        "## <font color='green'>List</font>"
      ]
    },
    {
      "cell_type": "code",
      "execution_count": 8,
      "metadata": {
        "colab": {
          "base_uri": "https://localhost:8080/"
        },
        "id": "S16nWBsjkO5Q",
        "outputId": "6262238d-4e70-46f8-f6cd-8dca18344111"
      },
      "outputs": [
        {
          "output_type": "stream",
          "name": "stdout",
          "text": [
            "1-Type =  <class 'list'>\n",
            "1-Type of item =  <class 'int'>\n",
            "2-Use the index to get the value =  1\n",
            "3-Change the value =  [5, 2, 3, 4, 'amit', 'learing', True, 5]\n",
            "4-Allow Duplicate Data  [2, 2, 3, 4, 'amit', 'learing', True, 5]\n",
            "5-List in the list [2, 2, 3, 4, 'amit', [1, 2, 3, 5, 6, 9], True, 5]\n",
            "6-Convert to list  ['a', 'm', 'i', 't']\n"
          ]
        }
      ],
      "source": [
        "# 1-List can be represented by [ ]\n",
        "List_one=[1,2,3,4,\"amit\",\"learing\",True,5]\n",
        "print(\"1-Type = \",type(List_one))\n",
        "print(\"1-Type of item = \",type(List_one[-1]))\n",
        "# 2- Ordered can use the index\n",
        "print(\"2-Use the index to get the value = \",List_one[0])\n",
        "# 3-changeable Data\n",
        "List_one[0]=5\n",
        "print(\"3-Change the value = \",List_one)\n",
        "# 4- Allow Duplicate Data\n",
        "List_one[0]=2\n",
        "List_one[1]=2\n",
        "print(\"4-Allow Duplicate Data \",List_one)\n",
        "# 5 you can have Lists within Lists\n",
        "List_one[5]=[1,2,3,5,6,9]\n",
        "print(\"5-List in the list\",List_one)\n",
        "# 6 Convert any datatype to list Using List() function\n",
        "y =list(\"amit\")\n",
        "print('6-Convert to list ',y)"
      ]
    },
    {
      "cell_type": "markdown",
      "metadata": {
        "id": "mbCWlijykO5T"
      },
      "source": [
        "### Some Functions  "
      ]
    },
    {
      "cell_type": "markdown",
      "metadata": {
        "id": "bLRY_cmVkO5U"
      },
      "source": [
        "#### append"
      ]
    },
    {
      "cell_type": "code",
      "execution_count": 9,
      "metadata": {
        "colab": {
          "base_uri": "https://localhost:8080/"
        },
        "id": "1ADABvQlkO5U",
        "outputId": "555925e4-fc00-41c4-8447-9579acbeaca9"
      },
      "outputs": [
        {
          "output_type": "stream",
          "name": "stdout",
          "text": [
            "Before =  [2, 2, 3, 4, 'amit', [1, 2, 3, 5, 6, 9], True, 5]\n",
            "After  =  [2, 2, 3, 4, 'amit', [1, 2, 3, 5, 6, 9], True, 5, [1, 2, 3, 4, 5, 6]]\n"
          ]
        }
      ],
      "source": [
        "# Append(): Add the specified item to the end of the list.\n",
        "print(\"Before = \",List_one)\n",
        "List_one.append([1,2,3,4,5,6])\n",
        "print(\"After  = \",List_one)\n"
      ]
    },
    {
      "cell_type": "markdown",
      "metadata": {
        "id": "E4oMtnRRkO5U"
      },
      "source": [
        "#### insert"
      ]
    },
    {
      "cell_type": "code",
      "execution_count": 10,
      "metadata": {
        "colab": {
          "base_uri": "https://localhost:8080/"
        },
        "id": "PmD1p6BfkO5V",
        "outputId": "aae6abd1-58cc-4ac8-c2b4-3f9f2b70f22c"
      },
      "outputs": [
        {
          "output_type": "stream",
          "name": "stdout",
          "text": [
            "before : [2, 2, 3, 4, 'amit', [1, 2, 3, 5, 6, 9], True, 5, [1, 2, 3, 4, 5, 6]]\n",
            "After : ['machine learning', 2, 2, 3, 4, 'amit', [1, 2, 3, 5, 6, 9], True, 5, [1, 2, 3, 4, 5, 6]]\n"
          ]
        }
      ],
      "source": [
        "# insert():  adds the specified item at the given index in the list.\n",
        "print(\"before :\",List_one)\n",
        "List_one.insert(0,\"machine learning\")\n",
        "print(\"After :\",List_one)\n",
        "\n"
      ]
    },
    {
      "cell_type": "markdown",
      "metadata": {
        "id": "HmRNCrLrkO5V"
      },
      "source": [
        "#### extend"
      ]
    },
    {
      "cell_type": "code",
      "execution_count": 11,
      "metadata": {
        "colab": {
          "base_uri": "https://localhost:8080/"
        },
        "id": "nDfmoOAokO5W",
        "outputId": "d1ec7c95-da53-4b7b-8802-41fe3908cb03"
      },
      "outputs": [
        {
          "output_type": "stream",
          "name": "stdout",
          "text": [
            "before : ['machine learning', 2, 2, 3, 4, 'amit', [1, 2, 3, 5, 6, 9], True, 5, [1, 2, 3, 4, 5, 6]]\n",
            "After : ['machine learning', 2, 2, 3, 4, 'amit', [1, 2, 3, 5, 6, 9], True, 5, [1, 2, 3, 4, 5, 6], 1, 2, 3, 4, 5, 6]\n"
          ]
        }
      ],
      "source": [
        "# extend():  adds elements from the iterable to the end of the list.\n",
        "print(\"before :\",List_one)\n",
        "List_one.extend([1,2,3,4,5,6])\n",
        "print(\"After :\",List_one)\n"
      ]
    },
    {
      "cell_type": "markdown",
      "metadata": {
        "id": "NS9bqgPJkO5X"
      },
      "source": [
        "##### <span style=\"color:gold\">This is the difference between extend and append\n",
        "</span>"
      ]
    },
    {
      "cell_type": "markdown",
      "metadata": {
        "id": "J9wsY54ykO5X"
      },
      "source": [
        "<img src=\"https://i.stack.imgur.com/KH5jB.png\" alt=\"Italian Trulli\">\n"
      ]
    },
    {
      "cell_type": "markdown",
      "metadata": {
        "id": "edbu6NF1kO5X"
      },
      "source": [
        "### remove"
      ]
    },
    {
      "cell_type": "code",
      "execution_count": 12,
      "metadata": {
        "colab": {
          "base_uri": "https://localhost:8080/"
        },
        "id": "o9600FgSkO5Y",
        "outputId": "346af608-7782-4fa2-f865-3fe0a9a81b06"
      },
      "outputs": [
        {
          "output_type": "stream",
          "name": "stdout",
          "text": [
            "before : ['machine learning', 2, 2, 3, 4, 'amit', [1, 2, 3, 5, 6, 9], True, 5, [1, 2, 3, 4, 5, 6], 1, 2, 3, 4, 5, 6]\n",
            "After : [2, 2, 3, 4, 'amit', [1, 2, 3, 5, 6, 9], True, 5, [1, 2, 3, 4, 5, 6], 1, 2, 3, 4, 5, 6]\n"
          ]
        }
      ],
      "source": [
        "# remove(): removes the first occurrence of the specified item from the list.\n",
        "print(\"before :\",List_one)\n",
        "List_one.remove(\"machine learning\")\n",
        "print(\"After :\",List_one)\n"
      ]
    },
    {
      "cell_type": "markdown",
      "metadata": {
        "id": "jjnGsV8UkO5Y"
      },
      "source": [
        "### pop"
      ]
    },
    {
      "cell_type": "code",
      "execution_count": 13,
      "metadata": {
        "colab": {
          "base_uri": "https://localhost:8080/"
        },
        "id": "M0qrXAbxkO5Y",
        "outputId": "ff75f0f0-7390-4602-a24e-7fd438fd2044"
      },
      "outputs": [
        {
          "output_type": "stream",
          "name": "stdout",
          "text": [
            "before ['amit', 'AI', 'pyhton']\n",
            "return amit\n",
            "After ['AI', 'pyhton']\n"
          ]
        }
      ],
      "source": [
        "# pop():   removes and returns the item at the specified index in the list.\n",
        "pop_one = ['amit', 'AI', 'pyhton']\n",
        "print('before',pop_one)\n",
        "print(\"return\",pop_one.pop(0))\n",
        "print('After',pop_one)"
      ]
    },
    {
      "cell_type": "markdown",
      "metadata": {
        "id": "AadOz5uykO5Z"
      },
      "source": [
        "### del"
      ]
    },
    {
      "cell_type": "code",
      "execution_count": 14,
      "metadata": {
        "colab": {
          "base_uri": "https://localhost:8080/"
        },
        "id": "fdv5rh88kO5Z",
        "outputId": "787d051a-611b-4f4d-9054-d26bce6e1f15"
      },
      "outputs": [
        {
          "output_type": "stream",
          "name": "stdout",
          "text": [
            "before : [2, 2, 3, 4, 'amit', [1, 2, 3, 5, 6, 9], True, 5, [1, 2, 3, 4, 5, 6], 1, 2, 3, 4, 5, 6]\n",
            "After : [2, 3, 4, 'amit', [1, 2, 3, 5, 6, 9], True, 5, [1, 2, 3, 4, 5, 6], 1, 2, 3, 4, 5, 6]\n"
          ]
        }
      ],
      "source": [
        "# del : removes the item at the specified index using the del statement\n",
        "print(\"before :\",List_one)\n",
        "del List_one[0]\n",
        "print(\"After :\",List_one)"
      ]
    },
    {
      "cell_type": "markdown",
      "metadata": {
        "id": "fFURtCXqkO5a"
      },
      "source": [
        "#### Different between pop and del\n",
        "####  <span style=\"color:gold\">Pop returns returns the item  while del no</span>"
      ]
    },
    {
      "cell_type": "markdown",
      "metadata": {
        "id": "9pfNFxDnkO5a"
      },
      "source": [
        "### index() count() sort() reverse() clear()"
      ]
    },
    {
      "cell_type": "code",
      "execution_count": 15,
      "metadata": {
        "colab": {
          "base_uri": "https://localhost:8080/"
        },
        "id": "WvqMjFM-kO5a",
        "outputId": "fdfb30f8-371b-4178-c2c6-f5bebbcf2667"
      },
      "outputs": [
        {
          "output_type": "stream",
          "name": "stdout",
          "text": [
            "index is =  3\n",
            "count is =  2\n",
            "sortes is =  [1, 2, 3, 4, 4, 5, 5, 6, 7]\n",
            "reverse is =  [7, 6, 5, 5, 4, 4, 3, 2, 1]\n",
            "After clear =  []\n"
          ]
        }
      ],
      "source": [
        "# index() : Returns the index of the first occurrence of a specified value.\n",
        "List_one.index(\"amit\")\n",
        "print(\"index is = \",List_one.index(\"amit\"))\n",
        "# count() : Returns the number of occurrences of a specified value.\n",
        "List_two=[1,2,3,4,5,4,6,5,7]\n",
        "print(\"count is = \",List_two.count(5))\n",
        "# sort() : Sorts the list in ascending order.\n",
        "List_two=[1,2,3,4,5,4,6,5,7]\n",
        "List_two.sort()\n",
        "print(\"sortes is = \",List_two)\n",
        "List_two.reverse()\n",
        "print(\"reverse is = \",List_two)\n",
        "List_two.clear()\n",
        "print(\"After clear = \",List_two)\n"
      ]
    },
    {
      "cell_type": "markdown",
      "metadata": {
        "id": "ncW3TTXAkO5b"
      },
      "source": [
        "## Input fuction"
      ]
    },
    {
      "cell_type": "code",
      "execution_count": 16,
      "metadata": {
        "colab": {
          "base_uri": "https://localhost:8080/",
          "height": 1000
        },
        "id": "6NSGYqolkO5b",
        "outputId": "9faa10ba-c6fd-43dc-cc26-108a2b9ad445"
      },
      "outputs": [
        {
          "output_type": "stream",
          "name": "stderr",
          "text": [
            "ERROR:root:Internal Python error in the inspect module.\n",
            "Below is the traceback from this internal error.\n",
            "\n"
          ]
        },
        {
          "output_type": "stream",
          "name": "stdout",
          "text": [
            "Traceback (most recent call last):\n",
            "  File \"/usr/local/lib/python3.10/dist-packages/IPython/core/interactiveshell.py\", line 3553, in run_code\n",
            "    exec(code_obj, self.user_global_ns, self.user_ns)\n",
            "  File \"<ipython-input-16-1b8bda8b4813>\", line 1, in <cell line: 1>\n",
            "    name=input(\"enter your name\")\n",
            "  File \"/usr/local/lib/python3.10/dist-packages/ipykernel/kernelbase.py\", line 851, in raw_input\n",
            "    return self._input_request(str(prompt),\n",
            "  File \"/usr/local/lib/python3.10/dist-packages/ipykernel/kernelbase.py\", line 895, in _input_request\n",
            "    raise KeyboardInterrupt(\"Interrupted by user\") from None\n",
            "KeyboardInterrupt: Interrupted by user\n",
            "\n",
            "During handling of the above exception, another exception occurred:\n",
            "\n",
            "Traceback (most recent call last):\n",
            "  File \"/usr/local/lib/python3.10/dist-packages/IPython/core/interactiveshell.py\", line 2099, in showtraceback\n",
            "    stb = value._render_traceback_()\n",
            "AttributeError: 'KeyboardInterrupt' object has no attribute '_render_traceback_'\n",
            "\n",
            "During handling of the above exception, another exception occurred:\n",
            "\n",
            "Traceback (most recent call last):\n",
            "  File \"/usr/local/lib/python3.10/dist-packages/IPython/core/ultratb.py\", line 1101, in get_records\n",
            "    return _fixed_getinnerframes(etb, number_of_lines_of_context, tb_offset)\n",
            "  File \"/usr/local/lib/python3.10/dist-packages/IPython/core/ultratb.py\", line 248, in wrapped\n",
            "    return f(*args, **kwargs)\n",
            "  File \"/usr/local/lib/python3.10/dist-packages/IPython/core/ultratb.py\", line 281, in _fixed_getinnerframes\n",
            "    records = fix_frame_records_filenames(inspect.getinnerframes(etb, context))\n",
            "  File \"/usr/lib/python3.10/inspect.py\", line 1662, in getinnerframes\n",
            "    frameinfo = (tb.tb_frame,) + getframeinfo(tb, context)\n",
            "  File \"/usr/lib/python3.10/inspect.py\", line 1620, in getframeinfo\n",
            "    filename = getsourcefile(frame) or getfile(frame)\n",
            "  File \"/usr/lib/python3.10/inspect.py\", line 829, in getsourcefile\n",
            "    module = getmodule(object, filename)\n",
            "  File \"/usr/lib/python3.10/inspect.py\", line 878, in getmodule\n",
            "    os.path.realpath(f)] = module.__name__\n",
            "  File \"/usr/lib/python3.10/posixpath.py\", line 395, in realpath\n",
            "    filename = os.fspath(filename)\n",
            "KeyboardInterrupt\n"
          ]
        },
        {
          "output_type": "error",
          "ename": "TypeError",
          "evalue": "object of type 'NoneType' has no len()",
          "traceback": [
            "\u001b[0;31m---------------------------------------------------------------------------\u001b[0m",
            "\u001b[0;31mKeyboardInterrupt\u001b[0m                         Traceback (most recent call last)",
            "    \u001b[0;31m[... skipping hidden 1 frame]\u001b[0m\n",
            "\u001b[0;32m<ipython-input-16-1b8bda8b4813>\u001b[0m in \u001b[0;36m<cell line: 1>\u001b[0;34m()\u001b[0m\n\u001b[0;32m----> 1\u001b[0;31m \u001b[0mname\u001b[0m\u001b[0;34m=\u001b[0m\u001b[0minput\u001b[0m\u001b[0;34m(\u001b[0m\u001b[0;34m\"enter your name\"\u001b[0m\u001b[0;34m)\u001b[0m\u001b[0;34m\u001b[0m\u001b[0;34m\u001b[0m\u001b[0m\n\u001b[0m\u001b[1;32m      2\u001b[0m \u001b[0mid\u001b[0m\u001b[0;34m=\u001b[0m\u001b[0minput\u001b[0m\u001b[0;34m(\u001b[0m\u001b[0;34m\"enter your id\"\u001b[0m\u001b[0;34m)\u001b[0m\u001b[0;34m\u001b[0m\u001b[0;34m\u001b[0m\u001b[0m\n\u001b[1;32m      3\u001b[0m \u001b[0mprint\u001b[0m\u001b[0;34m(\u001b[0m\u001b[0mname\u001b[0m\u001b[0;34m,\u001b[0m\u001b[0mid\u001b[0m\u001b[0;34m)\u001b[0m\u001b[0;34m\u001b[0m\u001b[0;34m\u001b[0m\u001b[0m\n",
            "\u001b[0;32m/usr/local/lib/python3.10/dist-packages/ipykernel/kernelbase.py\u001b[0m in \u001b[0;36mraw_input\u001b[0;34m(self, prompt)\u001b[0m\n\u001b[1;32m    850\u001b[0m             )\n\u001b[0;32m--> 851\u001b[0;31m         return self._input_request(str(prompt),\n\u001b[0m\u001b[1;32m    852\u001b[0m             \u001b[0mself\u001b[0m\u001b[0;34m.\u001b[0m\u001b[0m_parent_ident\u001b[0m\u001b[0;34m,\u001b[0m\u001b[0;34m\u001b[0m\u001b[0;34m\u001b[0m\u001b[0m\n",
            "\u001b[0;32m/usr/local/lib/python3.10/dist-packages/ipykernel/kernelbase.py\u001b[0m in \u001b[0;36m_input_request\u001b[0;34m(self, prompt, ident, parent, password)\u001b[0m\n\u001b[1;32m    894\u001b[0m                 \u001b[0;31m# re-raise KeyboardInterrupt, to truncate traceback\u001b[0m\u001b[0;34m\u001b[0m\u001b[0;34m\u001b[0m\u001b[0m\n\u001b[0;32m--> 895\u001b[0;31m                 \u001b[0;32mraise\u001b[0m \u001b[0mKeyboardInterrupt\u001b[0m\u001b[0;34m(\u001b[0m\u001b[0;34m\"Interrupted by user\"\u001b[0m\u001b[0;34m)\u001b[0m \u001b[0;32mfrom\u001b[0m \u001b[0;32mNone\u001b[0m\u001b[0;34m\u001b[0m\u001b[0;34m\u001b[0m\u001b[0m\n\u001b[0m\u001b[1;32m    896\u001b[0m             \u001b[0;32mexcept\u001b[0m \u001b[0mException\u001b[0m \u001b[0;32mas\u001b[0m \u001b[0me\u001b[0m\u001b[0;34m:\u001b[0m\u001b[0;34m\u001b[0m\u001b[0;34m\u001b[0m\u001b[0m\n",
            "\u001b[0;31mKeyboardInterrupt\u001b[0m: Interrupted by user",
            "\nDuring handling of the above exception, another exception occurred:\n",
            "\u001b[0;31mAttributeError\u001b[0m                            Traceback (most recent call last)",
            "\u001b[0;32m/usr/local/lib/python3.10/dist-packages/IPython/core/interactiveshell.py\u001b[0m in \u001b[0;36mshowtraceback\u001b[0;34m(self, exc_tuple, filename, tb_offset, exception_only, running_compiled_code)\u001b[0m\n\u001b[1;32m   2098\u001b[0m                         \u001b[0;31m# in the engines. This should return a list of strings.\u001b[0m\u001b[0;34m\u001b[0m\u001b[0;34m\u001b[0m\u001b[0m\n\u001b[0;32m-> 2099\u001b[0;31m                         \u001b[0mstb\u001b[0m \u001b[0;34m=\u001b[0m \u001b[0mvalue\u001b[0m\u001b[0;34m.\u001b[0m\u001b[0m_render_traceback_\u001b[0m\u001b[0;34m(\u001b[0m\u001b[0;34m)\u001b[0m\u001b[0;34m\u001b[0m\u001b[0;34m\u001b[0m\u001b[0m\n\u001b[0m\u001b[1;32m   2100\u001b[0m                     \u001b[0;32mexcept\u001b[0m \u001b[0mException\u001b[0m\u001b[0;34m:\u001b[0m\u001b[0;34m\u001b[0m\u001b[0;34m\u001b[0m\u001b[0m\n",
            "\u001b[0;31mAttributeError\u001b[0m: 'KeyboardInterrupt' object has no attribute '_render_traceback_'",
            "\nDuring handling of the above exception, another exception occurred:\n",
            "\u001b[0;31mTypeError\u001b[0m                                 Traceback (most recent call last)",
            "    \u001b[0;31m[... skipping hidden 1 frame]\u001b[0m\n",
            "\u001b[0;32m/usr/local/lib/python3.10/dist-packages/IPython/core/interactiveshell.py\u001b[0m in \u001b[0;36mshowtraceback\u001b[0;34m(self, exc_tuple, filename, tb_offset, exception_only, running_compiled_code)\u001b[0m\n\u001b[1;32m   2099\u001b[0m                         \u001b[0mstb\u001b[0m \u001b[0;34m=\u001b[0m \u001b[0mvalue\u001b[0m\u001b[0;34m.\u001b[0m\u001b[0m_render_traceback_\u001b[0m\u001b[0;34m(\u001b[0m\u001b[0;34m)\u001b[0m\u001b[0;34m\u001b[0m\u001b[0;34m\u001b[0m\u001b[0m\n\u001b[1;32m   2100\u001b[0m                     \u001b[0;32mexcept\u001b[0m \u001b[0mException\u001b[0m\u001b[0;34m:\u001b[0m\u001b[0;34m\u001b[0m\u001b[0;34m\u001b[0m\u001b[0m\n\u001b[0;32m-> 2101\u001b[0;31m                         stb = self.InteractiveTB.structured_traceback(etype,\n\u001b[0m\u001b[1;32m   2102\u001b[0m                                             value, tb, tb_offset=tb_offset)\n\u001b[1;32m   2103\u001b[0m \u001b[0;34m\u001b[0m\u001b[0m\n",
            "\u001b[0;32m/usr/local/lib/python3.10/dist-packages/IPython/core/ultratb.py\u001b[0m in \u001b[0;36mstructured_traceback\u001b[0;34m(self, etype, value, tb, tb_offset, number_of_lines_of_context)\u001b[0m\n\u001b[1;32m   1365\u001b[0m         \u001b[0;32melse\u001b[0m\u001b[0;34m:\u001b[0m\u001b[0;34m\u001b[0m\u001b[0;34m\u001b[0m\u001b[0m\n\u001b[1;32m   1366\u001b[0m             \u001b[0mself\u001b[0m\u001b[0;34m.\u001b[0m\u001b[0mtb\u001b[0m \u001b[0;34m=\u001b[0m \u001b[0mtb\u001b[0m\u001b[0;34m\u001b[0m\u001b[0;34m\u001b[0m\u001b[0m\n\u001b[0;32m-> 1367\u001b[0;31m         return FormattedTB.structured_traceback(\n\u001b[0m\u001b[1;32m   1368\u001b[0m             self, etype, value, tb, tb_offset, number_of_lines_of_context)\n\u001b[1;32m   1369\u001b[0m \u001b[0;34m\u001b[0m\u001b[0m\n",
            "\u001b[0;32m/usr/local/lib/python3.10/dist-packages/IPython/core/ultratb.py\u001b[0m in \u001b[0;36mstructured_traceback\u001b[0;34m(self, etype, value, tb, tb_offset, number_of_lines_of_context)\u001b[0m\n\u001b[1;32m   1265\u001b[0m         \u001b[0;32mif\u001b[0m \u001b[0mmode\u001b[0m \u001b[0;32min\u001b[0m \u001b[0mself\u001b[0m\u001b[0;34m.\u001b[0m\u001b[0mverbose_modes\u001b[0m\u001b[0;34m:\u001b[0m\u001b[0;34m\u001b[0m\u001b[0;34m\u001b[0m\u001b[0m\n\u001b[1;32m   1266\u001b[0m             \u001b[0;31m# Verbose modes need a full traceback\u001b[0m\u001b[0;34m\u001b[0m\u001b[0;34m\u001b[0m\u001b[0m\n\u001b[0;32m-> 1267\u001b[0;31m             return VerboseTB.structured_traceback(\n\u001b[0m\u001b[1;32m   1268\u001b[0m                 \u001b[0mself\u001b[0m\u001b[0;34m,\u001b[0m \u001b[0metype\u001b[0m\u001b[0;34m,\u001b[0m \u001b[0mvalue\u001b[0m\u001b[0;34m,\u001b[0m \u001b[0mtb\u001b[0m\u001b[0;34m,\u001b[0m \u001b[0mtb_offset\u001b[0m\u001b[0;34m,\u001b[0m \u001b[0mnumber_of_lines_of_context\u001b[0m\u001b[0;34m\u001b[0m\u001b[0;34m\u001b[0m\u001b[0m\n\u001b[1;32m   1269\u001b[0m             )\n",
            "\u001b[0;32m/usr/local/lib/python3.10/dist-packages/IPython/core/ultratb.py\u001b[0m in \u001b[0;36mstructured_traceback\u001b[0;34m(self, etype, evalue, etb, tb_offset, number_of_lines_of_context)\u001b[0m\n\u001b[1;32m   1122\u001b[0m         \u001b[0;34m\"\"\"Return a nice text document describing the traceback.\"\"\"\u001b[0m\u001b[0;34m\u001b[0m\u001b[0;34m\u001b[0m\u001b[0m\n\u001b[1;32m   1123\u001b[0m \u001b[0;34m\u001b[0m\u001b[0m\n\u001b[0;32m-> 1124\u001b[0;31m         formatted_exception = self.format_exception_as_a_whole(etype, evalue, etb, number_of_lines_of_context,\n\u001b[0m\u001b[1;32m   1125\u001b[0m                                                                tb_offset)\n\u001b[1;32m   1126\u001b[0m \u001b[0;34m\u001b[0m\u001b[0m\n",
            "\u001b[0;32m/usr/local/lib/python3.10/dist-packages/IPython/core/ultratb.py\u001b[0m in \u001b[0;36mformat_exception_as_a_whole\u001b[0;34m(self, etype, evalue, etb, number_of_lines_of_context, tb_offset)\u001b[0m\n\u001b[1;32m   1080\u001b[0m \u001b[0;34m\u001b[0m\u001b[0m\n\u001b[1;32m   1081\u001b[0m \u001b[0;34m\u001b[0m\u001b[0m\n\u001b[0;32m-> 1082\u001b[0;31m         \u001b[0mlast_unique\u001b[0m\u001b[0;34m,\u001b[0m \u001b[0mrecursion_repeat\u001b[0m \u001b[0;34m=\u001b[0m \u001b[0mfind_recursion\u001b[0m\u001b[0;34m(\u001b[0m\u001b[0morig_etype\u001b[0m\u001b[0;34m,\u001b[0m \u001b[0mevalue\u001b[0m\u001b[0;34m,\u001b[0m \u001b[0mrecords\u001b[0m\u001b[0;34m)\u001b[0m\u001b[0;34m\u001b[0m\u001b[0;34m\u001b[0m\u001b[0m\n\u001b[0m\u001b[1;32m   1083\u001b[0m \u001b[0;34m\u001b[0m\u001b[0m\n\u001b[1;32m   1084\u001b[0m         \u001b[0mframes\u001b[0m \u001b[0;34m=\u001b[0m \u001b[0mself\u001b[0m\u001b[0;34m.\u001b[0m\u001b[0mformat_records\u001b[0m\u001b[0;34m(\u001b[0m\u001b[0mrecords\u001b[0m\u001b[0;34m,\u001b[0m \u001b[0mlast_unique\u001b[0m\u001b[0;34m,\u001b[0m \u001b[0mrecursion_repeat\u001b[0m\u001b[0;34m)\u001b[0m\u001b[0;34m\u001b[0m\u001b[0;34m\u001b[0m\u001b[0m\n",
            "\u001b[0;32m/usr/local/lib/python3.10/dist-packages/IPython/core/ultratb.py\u001b[0m in \u001b[0;36mfind_recursion\u001b[0;34m(etype, value, records)\u001b[0m\n\u001b[1;32m    380\u001b[0m     \u001b[0;31m# first frame (from in to out) that looks different.\u001b[0m\u001b[0;34m\u001b[0m\u001b[0;34m\u001b[0m\u001b[0m\n\u001b[1;32m    381\u001b[0m     \u001b[0;32mif\u001b[0m \u001b[0;32mnot\u001b[0m \u001b[0mis_recursion_error\u001b[0m\u001b[0;34m(\u001b[0m\u001b[0metype\u001b[0m\u001b[0;34m,\u001b[0m \u001b[0mvalue\u001b[0m\u001b[0;34m,\u001b[0m \u001b[0mrecords\u001b[0m\u001b[0;34m)\u001b[0m\u001b[0;34m:\u001b[0m\u001b[0;34m\u001b[0m\u001b[0;34m\u001b[0m\u001b[0m\n\u001b[0;32m--> 382\u001b[0;31m         \u001b[0;32mreturn\u001b[0m \u001b[0mlen\u001b[0m\u001b[0;34m(\u001b[0m\u001b[0mrecords\u001b[0m\u001b[0;34m)\u001b[0m\u001b[0;34m,\u001b[0m \u001b[0;36m0\u001b[0m\u001b[0;34m\u001b[0m\u001b[0;34m\u001b[0m\u001b[0m\n\u001b[0m\u001b[1;32m    383\u001b[0m \u001b[0;34m\u001b[0m\u001b[0m\n\u001b[1;32m    384\u001b[0m     \u001b[0;31m# Select filename, lineno, func_name to track frames with\u001b[0m\u001b[0;34m\u001b[0m\u001b[0;34m\u001b[0m\u001b[0m\n",
            "\u001b[0;31mTypeError\u001b[0m: object of type 'NoneType' has no len()"
          ]
        }
      ],
      "source": [
        "name=input(\"enter your name\")\n",
        "id=input(\"enter your id\")\n",
        "print(name,id)"
      ]
    },
    {
      "cell_type": "markdown",
      "metadata": {
        "id": "nMB5fPDokO5b"
      },
      "source": [
        "## <font color='green'>Tuple</font>"
      ]
    },
    {
      "cell_type": "code",
      "execution_count": null,
      "metadata": {
        "id": "jMmU3-PNkO5c"
      },
      "outputs": [],
      "source": [
        "# 1-Tuple can be represented by ( )\n",
        "tuple_one =(1,2,3,4,5.5,4.5,\"amit\",'learning')\n",
        "print(\"1-Type =\",type(tuple_one))\n",
        "# 2- Ordered can use the index\n",
        "print(\"2- Use the index to get the value = \",tuple_one[0])\n",
        "\n",
        "# >>>>>>>>>>>>>>>>>>>>>>>>>>>>>>>>>>>>>>>>>>>>>>>>>>>>>>>>>>>>>>>>>>>>>>>>>>>>>>>>>>>>>>>>>\n",
        "# 3- Unchangeable Data\n",
        "# tuple_one[0]=5\n",
        "# I can't change the value\n",
        "\n",
        "# 4. Allow Duplicate Data\n",
        "tuple_two=(1,1,1,2,2,2,2,2)\n",
        "print(\"4-Allow Duplicate Data \",tuple_two)\n",
        "#5. Can be nested among all (you can have lists within lists.)\n",
        "tuple_three=([1,2,3,5,6,9],6.87)\n",
        "print(\"5-List in the tupl\",tuple_three)\n",
        "# 6. Convert any datatype to list using Tuple() function\n",
        "y =tuple(\"amit\")\n",
        "print('6-Convert to tuple ',y)\n",
        "\n"
      ]
    },
    {
      "cell_type": "markdown",
      "metadata": {
        "id": "Jt7M3y4vkO5c"
      },
      "source": [
        "### <font color='red'>Note I can't use Functions like append or remove ...... etc why ?\n",
        "### because tuple is unchange so to solve this problem you can  <span style=\"color:gold\">convert  from tuble to list</span>\n",
        "</font>"
      ]
    },
    {
      "cell_type": "markdown",
      "metadata": {
        "id": "_G30qvc3kO5c"
      },
      "source": [
        "## <span style=\"color:green\">Set</span>"
      ]
    },
    {
      "cell_type": "markdown",
      "metadata": {
        "id": "1AGznIk2kO5d"
      },
      "source": [
        "<img src=\"https://favtutor.com/resources/images/uploads/Set_intersection_in_python.png\" alt=\"Italian Trulli\">\n"
      ]
    },
    {
      "cell_type": "code",
      "execution_count": null,
      "metadata": {
        "id": "_6TdyYAokO5d"
      },
      "outputs": [],
      "source": [
        "# 1-Set can be represented by { }\n",
        "set_one={\"amit\",\"learning\"}\n",
        "print(\"1-Type =\",type(set_one))\n",
        "\n",
        "# >>>>>>>>>>>>>>>>>>>>\n",
        "# 2-Unordered\n",
        "# give the error because i can't access the element\n",
        "# set_one[0]\n",
        "# >>>>>>>>>>>>>>>>>>\n",
        "\n",
        "\n",
        "# >>>>>>>>>>>>>>>>>>>>\n",
        "# 3.Unchangeable Data\n",
        "# give the error because i can't change the element\n",
        "# set_one[0]=5\n",
        "# print(\"3-Change the value = \",set_one)\n",
        "# >>>>>>>>>>>>>>>>>>\n",
        "\n",
        "\n",
        "# 4. Not allow Duplicate Data\n",
        "set_one={\"amit\",\"learning\",\"amit\"}\n",
        "print(\"4-doesn't Allow Duplicate Data \",set_one)\n",
        "\n",
        "# >>>>>>>>>>>>>>>>>>>>>>>>>>>>>>>>\n",
        "#5. Can not be nested among all (you can not have lists within set.)\n",
        "# give the error because i can't but the list\n",
        "# set_one={\"amit\",\"learning\",\"amit\",[1,23,2,5]}\n",
        "# >>>>>>>>>>>>>>>>>>>>>>>>>>>>>>>>\n",
        "\n",
        "\n",
        "# 6. Convert any datatype to list using set() function\n",
        "\n",
        "y =tuple(\"amit\")\n",
        "print('6-Convert to tuple ',y)\n"
      ]
    },
    {
      "cell_type": "markdown",
      "metadata": {
        "id": "2YgsfqM2kO5d"
      },
      "source": [
        "### <span style=\"color:gold\">Dictionary</span>"
      ]
    },
    {
      "cell_type": "markdown",
      "metadata": {
        "id": "bQIfjwCakO5e"
      },
      "source": [
        "<img src=\"https://dotnettrickscloud.blob.core.windows.net/img/python/2820230312012106.webp\" alt=\"Italian Trulli\">\n"
      ]
    },
    {
      "cell_type": "code",
      "execution_count": null,
      "metadata": {
        "id": "X7yTzqAUkO5e"
      },
      "outputs": [],
      "source": [
        "x={10:\"learing\",10:5,3:\"learing\",True:3,10:30}\n",
        "x[10]"
      ]
    },
    {
      "cell_type": "code",
      "execution_count": null,
      "metadata": {
        "id": "Ob14YsZPkO5e"
      },
      "outputs": [],
      "source": [
        "# 1-dictionary can be represented by { }\n",
        "dic_one={1:\"Mohamed\",2:\"learing\",3:\"learing\",True:3,\"Key1\":30}\n",
        "print(\"1-Type = \",type(dic_one))\n",
        "# 2-ordered\n",
        "print(\"2-Use the index to get the value = \",dic_one[True])\n",
        "\n",
        "# 3- changeable Data\n",
        "dic_one[\"Key1\"]=5\n",
        "print(\"3-Change the value = \",dic_one)\n",
        "\n",
        "# 4- allow Duplicate Data as value not as a key\n",
        "print(\"4-Allow Duplicate Data \",dic_one)\n",
        "\n",
        "#  5 you can have Lists within dictionary\n",
        "dic_one[\"Key1\"]=[1,2,3,4,5,6,7]\n",
        "print(\"5-List in the list\",dic_one)\n",
        "\n",
        "\n",
        "# 6 Convert any datatype to dictionary using dict() function\n",
        "y =dict([('a',1),(\"b\",2),('c',3)])\n",
        "print('6- Convert to tuple ',y)\n",
        "\n",
        "\n",
        "\n"
      ]
    },
    {
      "cell_type": "markdown",
      "metadata": {
        "id": "IFluxPV4kO5f"
      },
      "source": [
        "## <span style=\"color:red\">if</span>"
      ]
    },
    {
      "cell_type": "markdown",
      "metadata": {
        "id": "0rhh9QnvkO5f"
      },
      "source": [
        "### if-condition"
      ]
    },
    {
      "cell_type": "code",
      "execution_count": null,
      "metadata": {
        "id": "eG184qtBkO5f"
      },
      "outputs": [],
      "source": [
        "a=200\n",
        "b=33\n",
        "if b>a:\n",
        "    print(\"b is greater than a \")\n",
        "else:\n",
        "    print(\"a is greater than b \")"
      ]
    },
    {
      "cell_type": "markdown",
      "metadata": {
        "id": "TcW2wfyrkO5f"
      },
      "source": [
        "#### If-Condition With Logic Operations\n"
      ]
    },
    {
      "cell_type": "code",
      "execution_count": null,
      "metadata": {
        "id": "ngJjEOmTkO5g"
      },
      "outputs": [],
      "source": [
        "x=5\n",
        "y=10\n",
        "if x>0 and y>0:\n",
        "    print(\"Both x and y are positive\")"
      ]
    },
    {
      "cell_type": "code",
      "execution_count": null,
      "metadata": {
        "id": "yii0bS8qkO5g"
      },
      "outputs": [],
      "source": [
        "age=15\n",
        "if age<18 or age >=65:\n",
        "    print(\"You are child\")"
      ]
    },
    {
      "cell_type": "code",
      "execution_count": null,
      "metadata": {
        "id": "B05s1569kO5h"
      },
      "outputs": [],
      "source": [
        "is_raning=False\n",
        "if not is_raning:\n",
        "    print(\"It's not raining . You can go outside\")"
      ]
    },
    {
      "cell_type": "markdown",
      "metadata": {
        "id": "L86_pmfskO5h"
      },
      "source": [
        "### ShortHand If - Condition\n"
      ]
    },
    {
      "cell_type": "code",
      "execution_count": null,
      "metadata": {
        "id": "EsTH8ZhmkO5i"
      },
      "outputs": [],
      "source": [
        "a=10\n",
        "b=5\n",
        "result= a+b if a>b else a-b\n",
        "print(result)"
      ]
    },
    {
      "cell_type": "code",
      "execution_count": null,
      "metadata": {
        "id": "OEPgdu7LkO5i"
      },
      "outputs": [],
      "source": [
        "age=21\n",
        "print(\"Adult\") if age>=18 else(print(\"Teenager\") if age>=13 else (print(\"Child\")))"
      ]
    },
    {
      "cell_type": "markdown",
      "metadata": {
        "id": "EBfbIG9bkO5i"
      },
      "source": [
        "### Nested If - Condition\n"
      ]
    },
    {
      "cell_type": "code",
      "execution_count": null,
      "metadata": {
        "id": "NY1FCrAOkO5i"
      },
      "outputs": [],
      "source": [
        "\n",
        "is_sunny =True\n",
        "tep=25\n",
        "if  not is_sunny:\n",
        "    print(\"It's a sunny day !\")\n",
        "    if tep>20:\n",
        "        print(\"The weather is warm\")\n",
        "    else:\n",
        "        print(\"The weather is cool\")\n",
        "else:\n",
        "    print(\"It's not a sunny day\")"
      ]
    },
    {
      "cell_type": "markdown",
      "metadata": {
        "id": "XkYlV912kO5j"
      },
      "source": [
        "## Loop"
      ]
    },
    {
      "cell_type": "markdown",
      "metadata": {
        "id": "CdMRbuhfkO5j"
      },
      "source": [
        "### For loop"
      ]
    },
    {
      "cell_type": "code",
      "execution_count": null,
      "metadata": {
        "id": "8TEm6ofjkO5j"
      },
      "outputs": [],
      "source": [
        "for x in \"amit\":\n",
        "    print(x)"
      ]
    },
    {
      "cell_type": "code",
      "execution_count": null,
      "metadata": {
        "id": "0cJUbaVVkO5j"
      },
      "outputs": [],
      "source": [
        "for x in \"amit\":\n",
        "    print(\"python\")\n",
        "else:\n",
        "    print(\"Loop finished\")"
      ]
    },
    {
      "cell_type": "code",
      "execution_count": null,
      "metadata": {
        "id": "hWGME02lkO5j"
      },
      "outputs": [],
      "source": [
        "for x in range(10):\n",
        "    print(x)\n"
      ]
    },
    {
      "cell_type": "code",
      "execution_count": null,
      "metadata": {
        "id": "dXsgbB_wkO5k"
      },
      "outputs": [],
      "source": [
        "for x in range(10):\n",
        "    print(\"amit\")"
      ]
    },
    {
      "cell_type": "markdown",
      "metadata": {
        "id": "n-sSkq-MkO5k"
      },
      "source": [
        "### Break , Continue ,pass"
      ]
    },
    {
      "cell_type": "code",
      "execution_count": null,
      "metadata": {
        "id": "eh0_-cPykO5k"
      },
      "outputs": [],
      "source": [
        "for i in range(6):\n",
        "    if i==3:\n",
        "        continue\n",
        "    print(i)"
      ]
    },
    {
      "cell_type": "code",
      "execution_count": null,
      "metadata": {
        "id": "QPGnF5jCkO5k"
      },
      "outputs": [],
      "source": [
        "for i in range(6):\n",
        "    if i==3:\n",
        "        break\n",
        "    print(i)"
      ]
    },
    {
      "cell_type": "code",
      "execution_count": null,
      "metadata": {
        "id": "dZWw1xGIkO5l"
      },
      "outputs": [],
      "source": [
        "for i in range(6):\n",
        "    if i==3:\n",
        "        pass\n",
        "    print(i)"
      ]
    },
    {
      "cell_type": "markdown",
      "metadata": {
        "id": "khMtCLCvkO5l"
      },
      "source": [
        "### while Loop"
      ]
    },
    {
      "cell_type": "code",
      "execution_count": null,
      "metadata": {
        "id": "EzkRs8IDkO5l"
      },
      "outputs": [],
      "source": [
        "x=0\n",
        "while x<6:\n",
        "    print(x)\n",
        "    x+=1"
      ]
    },
    {
      "cell_type": "markdown",
      "metadata": {
        "id": "lQedaNPHkO5m"
      },
      "source": [
        "\n",
        "## <font color='green'>Solve this problem</font>"
      ]
    },
    {
      "cell_type": "markdown",
      "metadata": {
        "id": "bfKPQDnEkO5m"
      },
      "source": [
        "###### 85-100 A\n",
        "###### 75-85 B\n",
        "###### 65-75 C\n",
        "###### 50-65 D\n",
        "###### <50 F"
      ]
    },
    {
      "cell_type": "code",
      "execution_count": null,
      "metadata": {
        "id": "5CdhZt08kO5m"
      },
      "outputs": [],
      "source": [
        "x=int(input('enter your grade '))\n",
        "\n",
        "if x>=85 and x<=100:\n",
        "    print('A')\n",
        "elif x>=75 and x<85:\n",
        "    print('B')\n",
        "elif x>=65 and x<75:\n",
        "    print('C')\n",
        "elif x>=50 and x<65:\n",
        "    print('D')\n",
        "elif x<50:\n",
        "    print('good luck next year')\n",
        "else:\n",
        "    print('enter a valid data')\n",
        "\n"
      ]
    },
    {
      "cell_type": "code",
      "execution_count": null,
      "metadata": {
        "id": "cCP-t3N7kO5m"
      },
      "outputs": [],
      "source": []
    }
  ],
  "metadata": {
    "kernelspec": {
      "display_name": "base",
      "language": "python",
      "name": "python3"
    },
    "language_info": {
      "codemirror_mode": {
        "name": "ipython",
        "version": 3
      },
      "file_extension": ".py",
      "mimetype": "text/x-python",
      "name": "python",
      "nbconvert_exporter": "python",
      "pygments_lexer": "ipython3",
      "version": "3.10.9"
    },
    "colab": {
      "provenance": []
    }
  },
  "nbformat": 4,
  "nbformat_minor": 0
}